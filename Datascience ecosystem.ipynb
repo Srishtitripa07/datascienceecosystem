{
 "cells": [
  {
   "cell_type": "markdown",
   "id": "8b30f5f5",
   "metadata": {},
   "source": [
    "# Data science Tool and Ecosystem"
   ]
  },
  {
   "cell_type": "markdown",
   "id": "89a3e520",
   "metadata": {},
   "source": [
    "#### In this notebook, data science tools and ecosystem are summarized"
   ]
  },
  {
   "cell_type": "markdown",
   "id": "2a9fab35",
   "metadata": {},
   "source": [
    "**Objective:**"
   ]
  },
  {
   "cell_type": "markdown",
   "id": "1712c931",
   "metadata": {},
   "source": [
    "* some popular languages that data scientist use\n",
    "* some commonly used libraries by data scientist\n",
    "* some of the data scietist tools\n",
    "* arithmetic operation for multiplication and addition \n",
    "* converting mintues to hour "
   ]
  },
  {
   "cell_type": "markdown",
   "id": "a8f1bdd4",
   "metadata": {},
   "source": [
    "#### some of the popular languages that data scientist use are:"
   ]
  },
  {
   "cell_type": "markdown",
   "id": "86afbe00",
   "metadata": {},
   "source": [
    "1. python\n",
    "2. R language\n",
    "3. SQl\n",
    "4. java\n",
    "5. c++"
   ]
  },
  {
   "cell_type": "markdown",
   "id": "2897b4eb",
   "metadata": {},
   "source": [
    "#### some of the commonly used libraries used by the data scientist include:"
   ]
  },
  {
   "cell_type": "markdown",
   "id": "fe40a09b",
   "metadata": {},
   "source": [
    "1. pandas \n",
    "2. keras\n",
    "3. Numpy\n",
    "4. Matplotlib\n",
    "5. seaborn\n",
    "6. tenserflow\n",
    "7. pytorch"
   ]
  },
  {
   "cell_type": "markdown",
   "id": "d7b6cc9f",
   "metadata": {},
   "source": [
    "|Data science Tools|\n",
    "|----|\n",
    "|SAS|\n",
    "|Apache Spark|\n",
    "|Jupyter|\n",
    "|scikit-learn|\n",
    "|numpy|"
   ]
  },
  {
   "cell_type": "markdown",
   "id": "9eeab675",
   "metadata": {},
   "source": [
    "### Below are a few examples of evaluating arithmetic expression in python"
   ]
  },
  {
   "cell_type": "code",
   "execution_count": 1,
   "id": "170f3e3c",
   "metadata": {},
   "outputs": [
    {
     "name": "stdout",
     "output_type": "stream",
     "text": [
      "17\n"
     ]
    }
   ],
   "source": [
    "# This a simple arithmetic expression  to multiply then add integers\n",
    "a= (3*4)+5\n",
    "print(a)"
   ]
  },
  {
   "cell_type": "code",
   "execution_count": 2,
   "id": "9b48cd4a",
   "metadata": {},
   "outputs": [
    {
     "name": "stdout",
     "output_type": "stream",
     "text": [
      "3.3333333333333335\n"
     ]
    }
   ],
   "source": [
    "# This will convert 200 min to hours by dividing by 60 \n",
    "b = 200\n",
    "hour = 200/60\n",
    "print(hour)"
   ]
  },
  {
   "cell_type": "markdown",
   "id": "5b53e7a0",
   "metadata": {},
   "source": [
    "## Author"
   ]
  },
  {
   "cell_type": "markdown",
   "id": "e00e5291",
   "metadata": {},
   "source": [
    "Srishti Tripathi"
   ]
  },
  {
   "cell_type": "code",
   "execution_count": null,
   "id": "024b32a7",
   "metadata": {},
   "outputs": [],
   "source": []
  }
 ],
 "metadata": {
  "kernelspec": {
   "display_name": "Python 3 (ipykernel)",
   "language": "python",
   "name": "python3"
  },
  "language_info": {
   "codemirror_mode": {
    "name": "ipython",
    "version": 3
   },
   "file_extension": ".py",
   "mimetype": "text/x-python",
   "name": "python",
   "nbconvert_exporter": "python",
   "pygments_lexer": "ipython3",
   "version": "3.11.5"
  }
 },
 "nbformat": 4,
 "nbformat_minor": 5
}
